{
 "cells": [
  {
   "cell_type": "code",
   "execution_count": 30,
   "metadata": {},
   "outputs": [
    {
     "name": "stdout",
     "output_type": "stream",
     "text": [
      "Hello World\n"
     ]
    },
    {
     "ename": "KeyboardInterrupt",
     "evalue": "Interrupted by user",
     "output_type": "error",
     "traceback": [
      "\u001b[1;31m---------------------------------------------------------------------------\u001b[0m",
      "\u001b[1;31mKeyboardInterrupt\u001b[0m                         Traceback (most recent call last)",
      "\u001b[1;32m<ipython-input-30-764063c376ba>\u001b[0m in \u001b[0;36m<module>\u001b[1;34m\u001b[0m\n\u001b[0;32m      5\u001b[0m \u001b[1;33m\u001b[0m\u001b[0m\n\u001b[0;32m      6\u001b[0m \u001b[1;32mif\u001b[0m \u001b[0m__name__\u001b[0m \u001b[1;33m==\u001b[0m \u001b[1;34m\"__main__\"\u001b[0m\u001b[1;33m:\u001b[0m\u001b[1;33m\u001b[0m\u001b[1;33m\u001b[0m\u001b[0m\n\u001b[1;32m----> 7\u001b[1;33m     \u001b[0mmain\u001b[0m\u001b[1;33m(\u001b[0m\u001b[1;33m)\u001b[0m\u001b[1;33m\u001b[0m\u001b[1;33m\u001b[0m\u001b[0m\n\u001b[0m",
      "\u001b[1;32m<ipython-input-30-764063c376ba>\u001b[0m in \u001b[0;36mmain\u001b[1;34m()\u001b[0m\n\u001b[0;32m      1\u001b[0m \u001b[1;32mdef\u001b[0m \u001b[0mmain\u001b[0m\u001b[1;33m(\u001b[0m\u001b[1;33m)\u001b[0m\u001b[1;33m:\u001b[0m\u001b[1;33m\u001b[0m\u001b[1;33m\u001b[0m\u001b[0m\n\u001b[0;32m      2\u001b[0m     \u001b[0mprint\u001b[0m\u001b[1;33m(\u001b[0m\u001b[1;34m\"Hello World\"\u001b[0m\u001b[1;33m)\u001b[0m\u001b[1;33m\u001b[0m\u001b[1;33m\u001b[0m\u001b[0m\n\u001b[1;32m----> 3\u001b[1;33m     \u001b[0mname\u001b[0m \u001b[1;33m=\u001b[0m \u001b[0minput\u001b[0m\u001b[1;33m(\u001b[0m\u001b[1;34m\"What is your name? \"\u001b[0m\u001b[1;33m)\u001b[0m\u001b[1;33m\u001b[0m\u001b[1;33m\u001b[0m\u001b[0m\n\u001b[0m\u001b[0;32m      4\u001b[0m     \u001b[0mprint\u001b[0m\u001b[1;33m(\u001b[0m\u001b[1;34m\"Nice to meet you, \"\u001b[0m\u001b[1;33m,\u001b[0m \u001b[0mname\u001b[0m\u001b[1;33m)\u001b[0m\u001b[1;33m\u001b[0m\u001b[1;33m\u001b[0m\u001b[0m\n\u001b[0;32m      5\u001b[0m \u001b[1;33m\u001b[0m\u001b[0m\n",
      "\u001b[1;32m~\\anaconda3\\lib\\site-packages\\ipykernel\\kernelbase.py\u001b[0m in \u001b[0;36mraw_input\u001b[1;34m(self, prompt)\u001b[0m\n\u001b[0;32m    858\u001b[0m                 \u001b[1;34m\"raw_input was called, but this frontend does not support input requests.\"\u001b[0m\u001b[1;33m\u001b[0m\u001b[1;33m\u001b[0m\u001b[0m\n\u001b[0;32m    859\u001b[0m             )\n\u001b[1;32m--> 860\u001b[1;33m         return self._input_request(str(prompt),\n\u001b[0m\u001b[0;32m    861\u001b[0m             \u001b[0mself\u001b[0m\u001b[1;33m.\u001b[0m\u001b[0m_parent_ident\u001b[0m\u001b[1;33m,\u001b[0m\u001b[1;33m\u001b[0m\u001b[1;33m\u001b[0m\u001b[0m\n\u001b[0;32m    862\u001b[0m             \u001b[0mself\u001b[0m\u001b[1;33m.\u001b[0m\u001b[0m_parent_header\u001b[0m\u001b[1;33m,\u001b[0m\u001b[1;33m\u001b[0m\u001b[1;33m\u001b[0m\u001b[0m\n",
      "\u001b[1;32m~\\anaconda3\\lib\\site-packages\\ipykernel\\kernelbase.py\u001b[0m in \u001b[0;36m_input_request\u001b[1;34m(self, prompt, ident, parent, password)\u001b[0m\n\u001b[0;32m    902\u001b[0m             \u001b[1;32mexcept\u001b[0m \u001b[0mKeyboardInterrupt\u001b[0m\u001b[1;33m:\u001b[0m\u001b[1;33m\u001b[0m\u001b[1;33m\u001b[0m\u001b[0m\n\u001b[0;32m    903\u001b[0m                 \u001b[1;31m# re-raise KeyboardInterrupt, to truncate traceback\u001b[0m\u001b[1;33m\u001b[0m\u001b[1;33m\u001b[0m\u001b[1;33m\u001b[0m\u001b[0m\n\u001b[1;32m--> 904\u001b[1;33m                 \u001b[1;32mraise\u001b[0m \u001b[0mKeyboardInterrupt\u001b[0m\u001b[1;33m(\u001b[0m\u001b[1;34m\"Interrupted by user\"\u001b[0m\u001b[1;33m)\u001b[0m \u001b[1;32mfrom\u001b[0m \u001b[1;32mNone\u001b[0m\u001b[1;33m\u001b[0m\u001b[1;33m\u001b[0m\u001b[0m\n\u001b[0m\u001b[0;32m    905\u001b[0m             \u001b[1;32mexcept\u001b[0m \u001b[0mException\u001b[0m \u001b[1;32mas\u001b[0m \u001b[0me\u001b[0m\u001b[1;33m:\u001b[0m\u001b[1;33m\u001b[0m\u001b[1;33m\u001b[0m\u001b[0m\n\u001b[0;32m    906\u001b[0m                 \u001b[0mself\u001b[0m\u001b[1;33m.\u001b[0m\u001b[0mlog\u001b[0m\u001b[1;33m.\u001b[0m\u001b[0mwarning\u001b[0m\u001b[1;33m(\u001b[0m\u001b[1;34m\"Invalid Message:\"\u001b[0m\u001b[1;33m,\u001b[0m \u001b[0mexc_info\u001b[0m\u001b[1;33m=\u001b[0m\u001b[1;32mTrue\u001b[0m\u001b[1;33m)\u001b[0m\u001b[1;33m\u001b[0m\u001b[1;33m\u001b[0m\u001b[0m\n",
      "\u001b[1;31mKeyboardInterrupt\u001b[0m: Interrupted by user"
     ]
    }
   ],
   "source": [
    "def main():\n",
    "    print(\"Hello World\")\n",
    "    name = input(\"What is your name? \")\n",
    "    print(\"Nice to meet you, \", name)\n",
    "\n",
    "if __name__ == \"__main__\":\n",
    "    main()"
   ]
  },
  {
   "cell_type": "code",
   "execution_count": 9,
   "metadata": {},
   "outputs": [],
   "source": [
    "def func1():\n",
    "    print(\"I am a function 1\")"
   ]
  },
  {
   "cell_type": "code",
   "execution_count": 15,
   "metadata": {},
   "outputs": [],
   "source": [
    "def func2(arg1, arg2):\n",
    "    print(arg1, \" \", arg2)\n",
    "    return arg1"
   ]
  },
  {
   "cell_type": "code",
   "execution_count": 16,
   "metadata": {},
   "outputs": [],
   "source": [
    "def cube(x):\n",
    "    return x*x*x"
   ]
  },
  {
   "cell_type": "code",
   "execution_count": 17,
   "metadata": {},
   "outputs": [
    {
     "name": "stdout",
     "output_type": "stream",
     "text": [
      "10   20\n"
     ]
    },
    {
     "data": {
      "text/plain": [
       "10"
      ]
     },
     "execution_count": 17,
     "metadata": {},
     "output_type": "execute_result"
    }
   ],
   "source": [
    "func2(10,20)"
   ]
  },
  {
   "cell_type": "code",
   "execution_count": 18,
   "metadata": {},
   "outputs": [
    {
     "name": "stdout",
     "output_type": "stream",
     "text": [
      "10   20\n",
      "10\n"
     ]
    }
   ],
   "source": [
    "print(func2(10,20))"
   ]
  },
  {
   "cell_type": "code",
   "execution_count": 19,
   "metadata": {},
   "outputs": [
    {
     "name": "stdout",
     "output_type": "stream",
     "text": [
      "27\n"
     ]
    }
   ],
   "source": [
    "print(cube(3))"
   ]
  },
  {
   "cell_type": "code",
   "execution_count": 22,
   "metadata": {},
   "outputs": [],
   "source": [
    "def mult_add(*arg1):\n",
    "    result = 0\n",
    "    for i in arg1:\n",
    "        result = result + i\n",
    "    return result"
   ]
  },
  {
   "cell_type": "code",
   "execution_count": 23,
   "metadata": {},
   "outputs": [
    {
     "data": {
      "text/plain": [
       "6"
      ]
     },
     "execution_count": 23,
     "metadata": {},
     "output_type": "execute_result"
    }
   ],
   "source": [
    "mult_add(3, 2, 1)"
   ]
  },
  {
   "cell_type": "code",
   "execution_count": 9,
   "metadata": {},
   "outputs": [],
   "source": [
    "class myClass():\n",
    "    def method1(self):\n",
    "        print(\"myClass method1 works\")\n",
    "        \n",
    "    def method2(self, var):\n",
    "        print(\"myClass method2 works \" + var)"
   ]
  },
  {
   "cell_type": "code",
   "execution_count": 10,
   "metadata": {},
   "outputs": [
    {
     "name": "stdout",
     "output_type": "stream",
     "text": [
      "myClass method1 works\n",
      "myClass method2 works abc\n"
     ]
    }
   ],
   "source": [
    "c= myClass()\n",
    "c.method1()\n",
    "c.method2(\"abc\")"
   ]
  },
  {
   "cell_type": "code",
   "execution_count": 33,
   "metadata": {},
   "outputs": [],
   "source": [
    "class anotherClass(myClass):\n",
    "    def method3(self):\n",
    "        print(\"anotherClass method3 works\")\n",
    "        myClass.method1(self)\n",
    "    \n",
    "    def method4(self, var2):\n",
    "        print(\"anotherClass method4 works \" + var2)"
   ]
  },
  {
   "cell_type": "code",
   "execution_count": 38,
   "metadata": {},
   "outputs": [
    {
     "name": "stdout",
     "output_type": "stream",
     "text": [
      "anotherClass method3 works\n",
      "myClass method1 works\n",
      "myClass method2 works hello\n",
      "myClass method1 works\n",
      "anotherClass method4 works a\n",
      "myClass method1 works\n"
     ]
    }
   ],
   "source": [
    "c2 = anotherClass()\n",
    "c2.method3()\n",
    "c2.method2(\"hello\")\n",
    "c2.method1()\n",
    "c2.method4(\"a\")\n",
    "c.method1()"
   ]
  },
  {
   "cell_type": "code",
   "execution_count": 40,
   "metadata": {},
   "outputs": [],
   "source": [
    "import math"
   ]
  },
  {
   "cell_type": "code",
   "execution_count": 48,
   "metadata": {},
   "outputs": [
    {
     "name": "stdout",
     "output_type": "stream",
     "text": [
      "Your monthly payment is 8333.333333333334 USD.\n"
     ]
    }
   ],
   "source": [
    "def SetAnnual():\n",
    "  annual=0\n",
    "def PrintMonthly():\n",
    "  print(\"Your monthly payment is \"+str(annual/12)+\" USD.\")\n",
    "SetAnnual()\n",
    "PrintMonthly()"
   ]
  },
  {
   "cell_type": "code",
   "execution_count": 37,
   "metadata": {},
   "outputs": [
    {
     "name": "stdout",
     "output_type": "stream",
     "text": [
      "this is line0\n",
      "\n",
      "\n",
      "\n",
      "this is line1\n",
      "\n",
      "\n",
      "\n",
      "this is line2\n",
      "\n",
      "\n",
      "\n",
      "this is line3\n",
      "\n",
      "\n",
      "\n",
      "this is line4\n",
      "\n",
      "\n",
      "\n",
      "this is line5\n",
      "\n",
      "\n",
      "\n",
      "this is line6\n",
      "\n",
      "\n",
      "\n",
      "this is line7\n",
      "\n",
      "\n",
      "\n",
      "this is line8\n",
      "\n",
      "\n",
      "\n",
      "this is line9\n",
      "\n",
      "\n",
      "\n",
      "this is line0\n",
      "\n",
      "\n",
      "\n",
      "this is line1\n",
      "\n",
      "\n",
      "\n",
      "this is line2\n",
      "\n",
      "\n",
      "\n",
      "this is line3\n",
      "\n",
      "\n",
      "\n",
      "this is line4\n",
      "\n",
      "\n",
      "\n",
      "this is line5\n",
      "\n",
      "\n",
      "\n",
      "this is line6\n",
      "\n",
      "\n",
      "\n",
      "this is line7\n",
      "\n",
      "\n",
      "\n",
      "this is line8\n",
      "\n",
      "\n",
      "\n",
      "this is line9\n",
      "\n",
      "\n",
      "\n"
     ]
    },
    {
     "ename": "NameError",
     "evalue": "name 'contests' is not defined",
     "output_type": "error",
     "traceback": [
      "\u001b[1;31m---------------------------------------------------------------------------\u001b[0m",
      "\u001b[1;31mNameError\u001b[0m                                 Traceback (most recent call last)",
      "\u001b[1;32m<ipython-input-37-fcfb1f95fa1e>\u001b[0m in \u001b[0;36m<module>\u001b[1;34m\u001b[0m\n\u001b[0;32m     19\u001b[0m \u001b[1;33m\u001b[0m\u001b[0m\n\u001b[0;32m     20\u001b[0m \u001b[1;32mif\u001b[0m \u001b[0m__name__\u001b[0m \u001b[1;33m==\u001b[0m \u001b[1;34m\"__main__\"\u001b[0m\u001b[1;33m:\u001b[0m\u001b[1;33m\u001b[0m\u001b[1;33m\u001b[0m\u001b[0m\n\u001b[1;32m---> 21\u001b[1;33m     \u001b[0mmain\u001b[0m\u001b[1;33m(\u001b[0m\u001b[1;33m)\u001b[0m\u001b[1;33m\u001b[0m\u001b[1;33m\u001b[0m\u001b[0m\n\u001b[0m",
      "\u001b[1;32m<ipython-input-37-fcfb1f95fa1e>\u001b[0m in \u001b[0;36mmain\u001b[1;34m()\u001b[0m\n\u001b[0;32m     14\u001b[0m             \u001b[0mprint\u001b[0m\u001b[1;33m(\u001b[0m\u001b[0mx\u001b[0m\u001b[1;33m)\u001b[0m\u001b[1;33m\u001b[0m\u001b[1;33m\u001b[0m\u001b[0m\n\u001b[0;32m     15\u001b[0m \u001b[1;33m\u001b[0m\u001b[0m\n\u001b[1;32m---> 16\u001b[1;33m         \u001b[0mprint\u001b[0m\u001b[1;33m(\u001b[0m\u001b[0mcontests\u001b[0m\u001b[1;33m)\u001b[0m\u001b[1;33m\u001b[0m\u001b[1;33m\u001b[0m\u001b[0m\n\u001b[0m\u001b[0;32m     17\u001b[0m \u001b[1;33m\u001b[0m\u001b[0m\n\u001b[0;32m     18\u001b[0m     \u001b[0ma\u001b[0m\u001b[1;33m.\u001b[0m\u001b[0mclose\u001b[0m\u001b[1;33m(\u001b[0m\u001b[1;33m)\u001b[0m\u001b[1;33m\u001b[0m\u001b[1;33m\u001b[0m\u001b[0m\n",
      "\u001b[1;31mNameError\u001b[0m: name 'contests' is not defined"
     ]
    }
   ],
   "source": [
    "def main():\n",
    "#    a = open(\"ch1.txt\", \"w+\")\n",
    "#    a = open(\"ch1.txt\", \"a\")\n",
    "    a = open(\"ch1.txt\", \"r\")\n",
    "\n",
    "#    for i in range(10):\n",
    "#        a.write(\"this is line\" + str(i) + \"\\r\\n\")\n",
    "\n",
    "\n",
    "    if a.mode == 'r':\n",
    "        #contests = a .read()\n",
    "        fl = a.readlines()\n",
    "        for x in fl:\n",
    "            print(x)\n",
    "        \n",
    "        print(contests)\n",
    "    \n",
    "    a.close()\n",
    "\n",
    "if __name__ == \"__main__\":\n",
    "    main()"
   ]
  },
  {
   "cell_type": "code",
   "execution_count": 50,
   "metadata": {},
   "outputs": [
    {
     "name": "stdout",
     "output_type": "stream",
     "text": [
      "It has been 0:14:20.785371 since the file was modified.\n",
      "Or, 860.785371 seconds\n"
     ]
    }
   ],
   "source": [
    "###Working with OS path utilities\n",
    "import os\n",
    "from os import path\n",
    "import datetime\n",
    "from datetime import date, time, timedelta\n",
    "import time\n",
    "\n",
    "def main():\n",
    "    #print(os.name)\n",
    "    \n",
    "    ##check the item status\n",
    "    \n",
    "    #print(\"item exists: \" + str(path.exists(\"ch1.txt\")))\n",
    "    #print(\"Item is a file: \" + str(path.isfile(\"ch1.txt\")))\n",
    "    #print(\"Item is a directory: \" + str(path.isdir(\"ch1.txt\")))\n",
    "    \n",
    "    ##get the item path and its name seperately\n",
    "    \n",
    "    #print(\"Item path: \" + str(path.realpath(\"ch1.txt\")))\n",
    "    #print(\"Item path and name: \" + str(path.split(path.realpath(\"ch1.txt\"))))\n",
    "    \n",
    "    ## get the modification time\n",
    "    \n",
    "    #t = time.ctime(path.getmtime(\"ch1.txt\"))\n",
    "    #print(t)\n",
    "    #print(datetime.datetime.fromtimestamp(path.getmtime(\"ch1.txt\")))\n",
    "    \n",
    "##Calculate how long ago the item was modified\n",
    "    \n",
    "    td = datetime.datetime.now() - datetime.datetime.fromtimestamp(\n",
    "        path.getmtime(\"ch1.txt\")\n",
    "    )\n",
    "    print(\"It has been \" + str(td) + \" since the file was modified.\")\n",
    "    print(\"Or, \" + str(td.total_seconds()) + \" seconds\")\n",
    "    \n",
    "if __name__ == \"__main__\":\n",
    "    main()"
   ]
  },
  {
   "cell_type": "code",
   "execution_count": 57,
   "metadata": {},
   "outputs": [],
   "source": [
    "###Using file system shell methods\n",
    "\n",
    "import os\n",
    "from os import path\n",
    "import shutil\n",
    "from shutil import make_archive\n",
    "from zipfile import ZipFile\n",
    "\n",
    "\n",
    "def main():\n",
    "    #make a duplicate of an existing file\n",
    "    if path.exists(\".txt\"):\n",
    "        #get the path to the file in the current directory\n",
    "        src = path.realpath(\"ch1.txt\")\n",
    "        \n",
    "        #lets make a backup copy by apeending \"bak\" to the time\n",
    "        dst = src + \".bak\"\n",
    "        \n",
    "        #copy over the permissions, modification times, and other info\n",
    "        #shutil.copy(src, dst)\n",
    "        \n",
    "        #includes to copy metadata\n",
    "        #shutil.copystat(src, dst)\n",
    "        \n",
    "        \n",
    "        #rename the original file\n",
    "        #os.rename(\"ch1.txt\", \"newfile.txt\")\n",
    "    \n",
    "        #now put things into a ZIP archive\n",
    "        #root_dir, tail = path.spilt(src)\n",
    "        #shutil.make_archive(\"archive\", \"zip\", root_dir)\n",
    "        \n",
    "        #more fine-grained control over ZIP files\n",
    "        with ZipFile(\"testzip.zip\", \"w\") as newzip:\n",
    "            newzip.write(\"ch1.txt\")\n",
    "            newzip.write(\"ch1.txt.bak\")\n",
    "        \n",
    "if __name__ == \"__main__\":\n",
    "    main()"
   ]
  },
  {
   "cell_type": "code",
   "execution_count": null,
   "metadata": {},
   "outputs": [],
   "source": [
    "### Fetcing Internet Data\n",
    "\n",
    "## Example file for retrieving data from internet\n",
    "\n",
    "import urllib.request\n",
    "\n",
    "def main():\n",
    "    webUrl = urllib.request.urlopen(\"http://www.google.com\")\n",
    "    print(\"result code: \" + str(webUrl.getcode()))\n",
    "    data = webUrl.read()\n",
    "    print(data)\n",
    "    \n",
    "if __name__ == \"__main__\":\n",
    "    main()"
   ]
  },
  {
   "cell_type": "code",
   "execution_count": 80,
   "metadata": {},
   "outputs": [
    {
     "name": "stdout",
     "output_type": "stream",
     "text": [
      "result code: 200\n",
      "USGS Magnitude 2.5+ Earthquakes, Past Day\n",
      "Events that were felt: \n",
      "3.7 31km SSW of Smith Valley, NV  reported 26 times\n",
      "3.9 6 km SE of Fond Parisien, Haiti  reported 5 times\n",
      "2.8 10 km S of Narrows, Virginia  reported 33 times\n",
      "2.8 8 km WNW of Massena, New York  reported 167 times\n",
      "4.3 90 km NNE of Calama, Chile  reported 1 times\n",
      "5.0 43 km W of Tianpeng, China  reported 7 times\n"
     ]
    }
   ],
   "source": [
    "###Working with JSON data\n",
    "\n",
    "##Examplefile for parsing and processing JSON\n",
    "import urllib.request\n",
    "import json\n",
    "\n",
    "def printResults(data):\n",
    "    ##Use the json module to load the string data into a directory\n",
    "    theJSON = json.loads(data)\n",
    "    \n",
    "    ##Now we can access the contents of th JSON like any other python object\n",
    "    if \"title\" in theJSON[\"metadata\"]:\n",
    "        print(theJSON[\"metadata\"][\"title\"])\n",
    "    \n",
    "    ##output the number of events, plus the magnitude and each event name\n",
    "    #count = theJSON[\"metadata\"][\"count\"]\n",
    "    #print(str(count) + \" events recorded\")\n",
    "    \n",
    "    ##for each event, print the place where it occured\n",
    "    #for i in theJSON[\"features\"]:\n",
    "    #    print(i[\"properties\"][\"place\"])\n",
    "    #print(\"------------------------------------------\\n\")\n",
    "    \n",
    "    ##print the events that only have a magintude greater tha n4\n",
    "    #for i in theJSON[\"features\"]:\n",
    "    #    if i[\"properties\"][\"mag\"] >= 4.0:\n",
    "    #        print(\"%2.1f\" % i[\"properties\"][\"mag\"], i[\"properties\"][\"place\"])\n",
    "    \n",
    "    #print only the events where at least 1 person reported feeling something\n",
    "    print(\"Events that were felt: \")\n",
    "    for i in theJSON[\"features\"]:\n",
    "            feltReports = i[\"properties\"][\"felt\"]\n",
    "            if feltReports != None:\n",
    "                if feltReports > 0:\n",
    "                    print(\"%2.1f\" % i[\"properties\"][\"mag\"], i[\"properties\"][\"place\"], \" reported \"\n",
    "                      + str(feltReports) + \" times\")\n",
    "            \n",
    "    \n",
    "    \n",
    "    \n",
    "    \n",
    "def main():    \n",
    "    ##define a variable to hold the source URL\n",
    "    ##In this case we will use the free data feed from the USGS\n",
    "    ##This feed lists all earthquakes for the last day larger than Mag 2.5\n",
    "    urlData = \"https://earthquake.usgs.gov/earthquakes/feed/v1.0/summary/2.5_day.geojson\"\n",
    "    \n",
    "    ## Open the URL and read teh data\n",
    "    webUrl = urllib.request.urlopen(urlData)\n",
    "    print(\"result code: \" + str(webUrl.getcode()))\n",
    "    if(webUrl.getcode() ==200):\n",
    "        data = webUrl.read()\n",
    "        printResults(data)\n",
    "    else:\n",
    "        print(\"Received error, cannot parse result\")\n",
    "    \n",
    "if __name__ == \"__main__\":\n",
    "    main()"
   ]
  },
  {
   "cell_type": "code",
   "execution_count": 96,
   "metadata": {},
   "outputs": [
    {
     "name": "stdout",
     "output_type": "stream",
     "text": [
      "Encountered data:  Joe\n",
      "\tAt line:  3  position  13\n",
      "Encountered endtag:  firstname\n",
      "\tAt line:  3  position  16\n",
      "Encountered data:  Marini\n",
      "\tAt line:  4  position  12\n",
      "Encountered endtag:  lastname\n",
      "\tAt line:  4  position  18\n",
      "Encountered data:  Seattle\n",
      "\tAt line:  5  position  8\n",
      "Encountered endtag:  home\n",
      "\tAt line:  5  position  15\n",
      "Encountered endtag:  skill\n",
      "\tAt line:  6  position  2\n",
      "Encountered endtag:  skill\n",
      "\tAt line:  7  position  2\n",
      "Encountered endtag:  skill\n",
      "\tAt line:  8  position  2\n",
      "Encountered endtag:  skill\n",
      "\tAt line:  9  position  2\n",
      "Encountered endtag:  person\n",
      "\tAt line:  10  position  0\n",
      "Meta tags found: 0\n"
     ]
    }
   ],
   "source": [
    "### Parsing and processing HTML\n",
    "\n",
    "## Example file for parsing and processing HTML\n",
    "from html.parser import HTMLParser\n",
    "\n",
    "metacount = 0;\n",
    "\n",
    "\n",
    "class MyHTMLParser(HTMLParser):\n",
    "    \n",
    "    \n",
    "    def handle_comment(self, data):\n",
    "        \n",
    "        print(\"Encountered comment: \", data)\n",
    "        \n",
    "        pos = self.getpos()\n",
    "        \n",
    "        print(\"\\tAt line: \", pos[0], \" position \", pos[1])\n",
    "        \n",
    "        \n",
    "    def handle_startag(self, tag, attrs):\n",
    "        global metacount\n",
    "        \n",
    "        if tag == 'meta':\n",
    "            metacount += 1\n",
    "            \n",
    "        print(\"Encountered starttag: \", tag)\n",
    "        \n",
    "        pos = self.getpos()\n",
    "        \n",
    "        print(\"\\tAt line: \", pos[0], \" position \", pos[1])\n",
    "        \n",
    "        if attrs.__len__() > 0:\n",
    "            print(\"\\tAttriutes: \")\n",
    "        \n",
    "            for a in attrs:\n",
    "                \n",
    "                print(\"\\t\", a[0], \"=\", a[1])\n",
    "    \n",
    "    \n",
    "    def handle_endtag(self, tag):\n",
    "        \n",
    "        print(\"Encountered endtag: \", tag)\n",
    "        \n",
    "        pos = self.getpos()\n",
    "        \n",
    "        print(\"\\tAt line: \", pos[0], \" position \", pos[1])\n",
    "        \n",
    "        \n",
    "    def handle_data(self, data):\n",
    "        \n",
    "        if data.isspace():\n",
    "            return\n",
    "        \n",
    "        print(\"Encountered data: \", data)\n",
    "        \n",
    "        pos = self.getpos()\n",
    "        \n",
    "        print(\"\\tAt line: \", pos[0], \" position \", pos[1])\n",
    "    \n",
    "    \n",
    "def main():\n",
    "    ##instantiate the parser and feed it some HTML\n",
    "    parser = MyHTMLParser()\n",
    "    f = open(\"samplehtml.html\")\n",
    "    if f.mode == 'r':\n",
    "        contents = f.read()\n",
    "        parser.feed(contents)\n",
    "        \n",
    "    print(\"Meta tags found: \" + str(metacount))\n",
    "    \n",
    "if __name__ == \"__main__\":\n",
    "    main()"
   ]
  },
  {
   "cell_type": "code",
   "execution_count": 103,
   "metadata": {},
   "outputs": [
    {
     "name": "stdout",
     "output_type": "stream",
     "text": [
      "#document\n",
      "person\n",
      "4 skills: \n",
      "JavaScript\n",
      "Python\n",
      "C#\n",
      "HTML\n",
      "5 skills: \n",
      "JavaScript\n",
      "Python\n",
      "C#\n",
      "HTML\n",
      "jQuery\n"
     ]
    }
   ],
   "source": [
    "### Manipulating XML\n",
    "\n",
    "import xml.dom.minidom\n",
    "\n",
    "def main():\n",
    "    #use the parse() function to load and parse an XML file\n",
    "    doc = xml.dom.minidom.parse(\"samplexml.xml\")\n",
    "\n",
    "    #print out the document nede and the name of the first child tag\n",
    "    print(doc.nodeName)\n",
    "    print(doc.firstChild.tagName)\n",
    "    \n",
    "    #get a list of XML tags from the document and print each one\n",
    "    skills = doc.getElementsByTagName(\"skill\")\n",
    "    print(\"%d skills: \" % skills.length)\n",
    "    for skill in skills:\n",
    "        print(skill.getAttribute(\"name\"))\n",
    "    \n",
    "    #creat a new XML tag and add it into the document\n",
    "    newSkill = doc.createElement(\"skill\")\n",
    "    newSkill.setAttribute(\"name\", \"jQuery\")\n",
    "    doc.firstChild.appendChild(newSkill)\n",
    "    \n",
    "    skills = doc.getElementsByTagName(\"skill\")\n",
    "    print(\"%d skills: \" % skills.length)\n",
    "    for skill in skills:\n",
    "        print(skill.getAttribute(\"name\"))\n",
    "\n",
    "\n",
    "if __name__ == \"__main__\":\n",
    "    main()\n",
    "    \n",
    "    \n",
    "    \n",
    "    \n",
    "    \n",
    "    \n",
    "    \n",
    "    "
   ]
  },
  {
   "cell_type": "code",
   "execution_count": null,
   "metadata": {},
   "outputs": [],
   "source": []
  }
 ],
 "metadata": {
  "kernelspec": {
   "display_name": "Python 3",
   "language": "python",
   "name": "python3"
  },
  "language_info": {
   "codemirror_mode": {
    "name": "ipython",
    "version": 3
   },
   "file_extension": ".py",
   "mimetype": "text/x-python",
   "name": "python",
   "nbconvert_exporter": "python",
   "pygments_lexer": "ipython3",
   "version": "3.8.5"
  }
 },
 "nbformat": 4,
 "nbformat_minor": 4
}
