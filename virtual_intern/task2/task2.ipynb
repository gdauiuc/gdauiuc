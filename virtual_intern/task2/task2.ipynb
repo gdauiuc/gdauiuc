{
 "cells": [
  {
   "cell_type": "markdown",
   "metadata": {},
   "source": [
    "## Quantium - Module 2\n",
    "\n",
    "We will be examining the performance in trial vs control stores to provide a recommendation for each location based on our insight.\n",
    "\n",
    "Select control stores – explore the data and define metrics for control store selection – \"What would make them a control store?\" Visualize the drivers to see suitability.\n",
    "\n",
    "Assessment of the trial – get insights of each of the stores. Compare each trial store with ontrol store to get its overall performance. We want to know if the trial stores were successful or not.\n",
    "\n",
    "Collate findings – summarise findings for each store and provide recommendations to share with client outlining the impact on sales during trial period."
   ]
  },
  {
   "cell_type": "code",
   "execution_count": 2,
   "metadata": {},
   "outputs": [],
   "source": [
    "import pandas as pd\n",
    "import numpy as np\n",
    "import regex as re\n",
    "from plotnine import *\n",
    "import matplotlib.pyplot as plt\n",
    "%matplotlib inline\n",
    "qviData = pd.read_csv(\"QVI_data.csv\")"
   ]
  },
  {
   "cell_type": "code",
   "execution_count": 3,
   "metadata": {},
   "outputs": [
    {
     "data": {
      "text/html": [
       "<div>\n",
       "<style scoped>\n",
       "    .dataframe tbody tr th:only-of-type {\n",
       "        vertical-align: middle;\n",
       "    }\n",
       "\n",
       "    .dataframe tbody tr th {\n",
       "        vertical-align: top;\n",
       "    }\n",
       "\n",
       "    .dataframe thead th {\n",
       "        text-align: right;\n",
       "    }\n",
       "</style>\n",
       "<table border=\"1\" class=\"dataframe\">\n",
       "  <thead>\n",
       "    <tr style=\"text-align: right;\">\n",
       "      <th></th>\n",
       "      <th>LYLTY_CARD_NBR</th>\n",
       "      <th>DATE</th>\n",
       "      <th>STORE_NBR</th>\n",
       "      <th>TXN_ID</th>\n",
       "      <th>PROD_NBR</th>\n",
       "      <th>PROD_NAME</th>\n",
       "      <th>PROD_QTY</th>\n",
       "      <th>TOT_SALES</th>\n",
       "      <th>PACK_SIZE</th>\n",
       "      <th>BRAND</th>\n",
       "      <th>LIFESTAGE</th>\n",
       "      <th>PREMIUM_CUSTOMER</th>\n",
       "    </tr>\n",
       "  </thead>\n",
       "  <tbody>\n",
       "    <tr>\n",
       "      <th>0</th>\n",
       "      <td>1000</td>\n",
       "      <td>2018-10-17</td>\n",
       "      <td>1</td>\n",
       "      <td>1</td>\n",
       "      <td>5</td>\n",
       "      <td>Natural Chip        Compny SeaSalt175g</td>\n",
       "      <td>2</td>\n",
       "      <td>6.0</td>\n",
       "      <td>175</td>\n",
       "      <td>NATURAL</td>\n",
       "      <td>YOUNG SINGLES/COUPLES</td>\n",
       "      <td>Premium</td>\n",
       "    </tr>\n",
       "    <tr>\n",
       "      <th>1</th>\n",
       "      <td>1002</td>\n",
       "      <td>2018-09-16</td>\n",
       "      <td>1</td>\n",
       "      <td>2</td>\n",
       "      <td>58</td>\n",
       "      <td>Red Rock Deli Chikn&amp;Garlic Aioli 150g</td>\n",
       "      <td>1</td>\n",
       "      <td>2.7</td>\n",
       "      <td>150</td>\n",
       "      <td>RRD</td>\n",
       "      <td>YOUNG SINGLES/COUPLES</td>\n",
       "      <td>Mainstream</td>\n",
       "    </tr>\n",
       "    <tr>\n",
       "      <th>2</th>\n",
       "      <td>1003</td>\n",
       "      <td>2019-03-07</td>\n",
       "      <td>1</td>\n",
       "      <td>3</td>\n",
       "      <td>52</td>\n",
       "      <td>Grain Waves Sour    Cream&amp;Chives 210G</td>\n",
       "      <td>1</td>\n",
       "      <td>3.6</td>\n",
       "      <td>210</td>\n",
       "      <td>GRNWVES</td>\n",
       "      <td>YOUNG FAMILIES</td>\n",
       "      <td>Budget</td>\n",
       "    </tr>\n",
       "    <tr>\n",
       "      <th>3</th>\n",
       "      <td>1003</td>\n",
       "      <td>2019-03-08</td>\n",
       "      <td>1</td>\n",
       "      <td>4</td>\n",
       "      <td>106</td>\n",
       "      <td>Natural ChipCo      Hony Soy Chckn175g</td>\n",
       "      <td>1</td>\n",
       "      <td>3.0</td>\n",
       "      <td>175</td>\n",
       "      <td>NATURAL</td>\n",
       "      <td>YOUNG FAMILIES</td>\n",
       "      <td>Budget</td>\n",
       "    </tr>\n",
       "    <tr>\n",
       "      <th>4</th>\n",
       "      <td>1004</td>\n",
       "      <td>2018-11-02</td>\n",
       "      <td>1</td>\n",
       "      <td>5</td>\n",
       "      <td>96</td>\n",
       "      <td>WW Original Stacked Chips 160g</td>\n",
       "      <td>1</td>\n",
       "      <td>1.9</td>\n",
       "      <td>160</td>\n",
       "      <td>WOOLWORTHS</td>\n",
       "      <td>OLDER SINGLES/COUPLES</td>\n",
       "      <td>Mainstream</td>\n",
       "    </tr>\n",
       "    <tr>\n",
       "      <th>5</th>\n",
       "      <td>1005</td>\n",
       "      <td>2018-12-28</td>\n",
       "      <td>1</td>\n",
       "      <td>6</td>\n",
       "      <td>86</td>\n",
       "      <td>Cheetos Puffs 165g</td>\n",
       "      <td>1</td>\n",
       "      <td>2.8</td>\n",
       "      <td>165</td>\n",
       "      <td>CHEETOS</td>\n",
       "      <td>MIDAGE SINGLES/COUPLES</td>\n",
       "      <td>Mainstream</td>\n",
       "    </tr>\n",
       "    <tr>\n",
       "      <th>6</th>\n",
       "      <td>1007</td>\n",
       "      <td>2018-12-04</td>\n",
       "      <td>1</td>\n",
       "      <td>7</td>\n",
       "      <td>49</td>\n",
       "      <td>Infuzions SourCream&amp;Herbs Veg Strws 110g</td>\n",
       "      <td>1</td>\n",
       "      <td>3.8</td>\n",
       "      <td>110</td>\n",
       "      <td>INFUZIONS</td>\n",
       "      <td>YOUNG SINGLES/COUPLES</td>\n",
       "      <td>Budget</td>\n",
       "    </tr>\n",
       "    <tr>\n",
       "      <th>7</th>\n",
       "      <td>1007</td>\n",
       "      <td>2018-12-05</td>\n",
       "      <td>1</td>\n",
       "      <td>8</td>\n",
       "      <td>10</td>\n",
       "      <td>RRD SR Slow Rst     Pork Belly 150g</td>\n",
       "      <td>1</td>\n",
       "      <td>2.7</td>\n",
       "      <td>150</td>\n",
       "      <td>RRD</td>\n",
       "      <td>YOUNG SINGLES/COUPLES</td>\n",
       "      <td>Budget</td>\n",
       "    </tr>\n",
       "    <tr>\n",
       "      <th>8</th>\n",
       "      <td>1009</td>\n",
       "      <td>2018-11-20</td>\n",
       "      <td>1</td>\n",
       "      <td>9</td>\n",
       "      <td>20</td>\n",
       "      <td>Doritos Cheese      Supreme 330g</td>\n",
       "      <td>1</td>\n",
       "      <td>5.7</td>\n",
       "      <td>330</td>\n",
       "      <td>DORITOS</td>\n",
       "      <td>NEW FAMILIES</td>\n",
       "      <td>Premium</td>\n",
       "    </tr>\n",
       "    <tr>\n",
       "      <th>9</th>\n",
       "      <td>1010</td>\n",
       "      <td>2018-09-09</td>\n",
       "      <td>1</td>\n",
       "      <td>10</td>\n",
       "      <td>51</td>\n",
       "      <td>Doritos Mexicana    170g</td>\n",
       "      <td>2</td>\n",
       "      <td>8.8</td>\n",
       "      <td>170</td>\n",
       "      <td>DORITOS</td>\n",
       "      <td>YOUNG SINGLES/COUPLES</td>\n",
       "      <td>Mainstream</td>\n",
       "    </tr>\n",
       "  </tbody>\n",
       "</table>\n",
       "</div>"
      ],
      "text/plain": [
       "   LYLTY_CARD_NBR        DATE  STORE_NBR  TXN_ID  PROD_NBR  \\\n",
       "0            1000  2018-10-17          1       1         5   \n",
       "1            1002  2018-09-16          1       2        58   \n",
       "2            1003  2019-03-07          1       3        52   \n",
       "3            1003  2019-03-08          1       4       106   \n",
       "4            1004  2018-11-02          1       5        96   \n",
       "5            1005  2018-12-28          1       6        86   \n",
       "6            1007  2018-12-04          1       7        49   \n",
       "7            1007  2018-12-05          1       8        10   \n",
       "8            1009  2018-11-20          1       9        20   \n",
       "9            1010  2018-09-09          1      10        51   \n",
       "\n",
       "                                  PROD_NAME  PROD_QTY  TOT_SALES  PACK_SIZE  \\\n",
       "0    Natural Chip        Compny SeaSalt175g         2        6.0        175   \n",
       "1     Red Rock Deli Chikn&Garlic Aioli 150g         1        2.7        150   \n",
       "2     Grain Waves Sour    Cream&Chives 210G         1        3.6        210   \n",
       "3    Natural ChipCo      Hony Soy Chckn175g         1        3.0        175   \n",
       "4            WW Original Stacked Chips 160g         1        1.9        160   \n",
       "5                        Cheetos Puffs 165g         1        2.8        165   \n",
       "6  Infuzions SourCream&Herbs Veg Strws 110g         1        3.8        110   \n",
       "7       RRD SR Slow Rst     Pork Belly 150g         1        2.7        150   \n",
       "8          Doritos Cheese      Supreme 330g         1        5.7        330   \n",
       "9                  Doritos Mexicana    170g         2        8.8        170   \n",
       "\n",
       "        BRAND               LIFESTAGE PREMIUM_CUSTOMER  \n",
       "0     NATURAL   YOUNG SINGLES/COUPLES          Premium  \n",
       "1         RRD   YOUNG SINGLES/COUPLES       Mainstream  \n",
       "2     GRNWVES          YOUNG FAMILIES           Budget  \n",
       "3     NATURAL          YOUNG FAMILIES           Budget  \n",
       "4  WOOLWORTHS   OLDER SINGLES/COUPLES       Mainstream  \n",
       "5     CHEETOS  MIDAGE SINGLES/COUPLES       Mainstream  \n",
       "6   INFUZIONS   YOUNG SINGLES/COUPLES           Budget  \n",
       "7         RRD   YOUNG SINGLES/COUPLES           Budget  \n",
       "8     DORITOS            NEW FAMILIES          Premium  \n",
       "9     DORITOS   YOUNG SINGLES/COUPLES       Mainstream  "
      ]
     },
     "execution_count": 3,
     "metadata": {},
     "output_type": "execute_result"
    }
   ],
   "source": [
    "qviData.head(10)"
   ]
  },
  {
   "cell_type": "markdown",
   "metadata": {},
   "source": [
    "## Select control stores\n",
    "The client has selected store numbers 77, 86 and 88 as trial stores and want\n",
    "control stores to be established stores that are operational for the entire\n",
    "observation period.\n",
    "We would want to match trial stores to control stores that are similar to the trial\n",
    "store prior to the trial period of Feb 2019 in terms of :\n",
    "- Monthly overall sales revenue\n",
    "- Monthly number of customers\n",
    "- Monthly number of transactions per customer\n",
    "\n",
    "Let's first create the metrics of interest and filter to stores that are present\n",
    "throughout the pre-trial period.\n",
    "\n",
    "#### Calculate these measures over time for each store\n",
    "#### Over to you! Add a new month ID column in the data with the format yyyymm.\n",
    "data[, YEARMONTH := ]"
   ]
  },
  {
   "cell_type": "code",
   "execution_count": 4,
   "metadata": {},
   "outputs": [
    {
     "name": "stdout",
     "output_type": "stream",
     "text": [
      "<class 'pandas.core.frame.DataFrame'>\n",
      "RangeIndex: 264834 entries, 0 to 264833\n",
      "Data columns (total 12 columns):\n",
      " #   Column            Non-Null Count   Dtype  \n",
      "---  ------            --------------   -----  \n",
      " 0   LYLTY_CARD_NBR    264834 non-null  int64  \n",
      " 1   DATE              264834 non-null  object \n",
      " 2   STORE_NBR         264834 non-null  int64  \n",
      " 3   TXN_ID            264834 non-null  int64  \n",
      " 4   PROD_NBR          264834 non-null  int64  \n",
      " 5   PROD_NAME         264834 non-null  object \n",
      " 6   PROD_QTY          264834 non-null  int64  \n",
      " 7   TOT_SALES         264834 non-null  float64\n",
      " 8   PACK_SIZE         264834 non-null  int64  \n",
      " 9   BRAND             264834 non-null  object \n",
      " 10  LIFESTAGE         264834 non-null  object \n",
      " 11  PREMIUM_CUSTOMER  264834 non-null  object \n",
      "dtypes: float64(1), int64(6), object(5)\n",
      "memory usage: 24.2+ MB\n"
     ]
    }
   ],
   "source": [
    "qviData.info()"
   ]
  },
  {
   "cell_type": "code",
   "execution_count": 37,
   "metadata": {},
   "outputs": [],
   "source": [
    "qviData[\"DATE\"] = pd.to_datetime(qviData[\"DATE\"])\n",
    "qviData[\"YEARMONTH\"] = qviData[\"DATE\"].dt.strftime(\"%Y%m\").astype(\"int\")"
   ]
  },
  {
   "cell_type": "code",
   "execution_count": 40,
   "metadata": {},
   "outputs": [],
   "source": [
    "#set matrices\n",
    "store_ym_group = qviData.groupby([\"STORE_NBR\", \"YEARMONTH\"])\n",
    "total = store_ym_group[\"TOT_SALES\"].sum()\n",
    "num_cust = store_ym_group[\"LYLTY_CARD_NBR\"].nunique()\n",
    "avg_trans_per_cust = store_ym_group.size() / num_cust\n",
    "avg_per_cust = store_ym_group[\"PROD_QTY\"].sum() / num_cust\n",
    "avg_price = total / store_ym_group[\"PROD_QTY\"].sum()\n",
    "combine = [total, num_cust, avg_trans_per_cust, avg_per_cust, avg_price]\n",
    "qvi_metrics = pd.concat(combine, axis=1)\n",
    "qvi_metrics.columns = [\"TOT_SALES\", \"nCustomers\", \"nTxnPerCust\", \"nChipsPerTxn\", \"avgPricePerUnit\"]"
   ]
  },
  {
   "cell_type": "code",
   "execution_count": 50,
   "metadata": {},
   "outputs": [],
   "source": [
    "qvi_metrics = qvi_metrics.reset_index()"
   ]
  },
  {
   "cell_type": "code",
   "execution_count": 52,
   "metadata": {},
   "outputs": [
    {
     "data": {
      "text/html": [
       "<div>\n",
       "<style scoped>\n",
       "    .dataframe tbody tr th:only-of-type {\n",
       "        vertical-align: middle;\n",
       "    }\n",
       "\n",
       "    .dataframe tbody tr th {\n",
       "        vertical-align: top;\n",
       "    }\n",
       "\n",
       "    .dataframe thead th {\n",
       "        text-align: right;\n",
       "    }\n",
       "</style>\n",
       "<table border=\"1\" class=\"dataframe\">\n",
       "  <thead>\n",
       "    <tr style=\"text-align: right;\">\n",
       "      <th></th>\n",
       "      <th>index</th>\n",
       "      <th>STORE_NBR</th>\n",
       "      <th>YEARMONTH</th>\n",
       "      <th>TOT_SALES</th>\n",
       "      <th>nCustomers</th>\n",
       "      <th>nTxnPerCust</th>\n",
       "      <th>nChipsPerTxn</th>\n",
       "      <th>avgPricePerUnit</th>\n",
       "    </tr>\n",
       "  </thead>\n",
       "  <tbody>\n",
       "    <tr>\n",
       "      <th>0</th>\n",
       "      <td>0</td>\n",
       "      <td>1</td>\n",
       "      <td>201807</td>\n",
       "      <td>206.9</td>\n",
       "      <td>49</td>\n",
       "      <td>1.061224</td>\n",
       "      <td>1.265306</td>\n",
       "      <td>3.337097</td>\n",
       "    </tr>\n",
       "    <tr>\n",
       "      <th>1</th>\n",
       "      <td>1</td>\n",
       "      <td>1</td>\n",
       "      <td>201808</td>\n",
       "      <td>176.1</td>\n",
       "      <td>42</td>\n",
       "      <td>1.023810</td>\n",
       "      <td>1.285714</td>\n",
       "      <td>3.261111</td>\n",
       "    </tr>\n",
       "    <tr>\n",
       "      <th>2</th>\n",
       "      <td>2</td>\n",
       "      <td>1</td>\n",
       "      <td>201809</td>\n",
       "      <td>278.8</td>\n",
       "      <td>59</td>\n",
       "      <td>1.050847</td>\n",
       "      <td>1.271186</td>\n",
       "      <td>3.717333</td>\n",
       "    </tr>\n",
       "    <tr>\n",
       "      <th>3</th>\n",
       "      <td>3</td>\n",
       "      <td>1</td>\n",
       "      <td>201810</td>\n",
       "      <td>188.1</td>\n",
       "      <td>44</td>\n",
       "      <td>1.022727</td>\n",
       "      <td>1.318182</td>\n",
       "      <td>3.243103</td>\n",
       "    </tr>\n",
       "    <tr>\n",
       "      <th>4</th>\n",
       "      <td>4</td>\n",
       "      <td>1</td>\n",
       "      <td>201811</td>\n",
       "      <td>192.6</td>\n",
       "      <td>46</td>\n",
       "      <td>1.021739</td>\n",
       "      <td>1.239130</td>\n",
       "      <td>3.378947</td>\n",
       "    </tr>\n",
       "  </tbody>\n",
       "</table>\n",
       "</div>"
      ],
      "text/plain": [
       "   index  STORE_NBR  YEARMONTH  TOT_SALES  nCustomers  nTxnPerCust  \\\n",
       "0      0          1     201807      206.9          49     1.061224   \n",
       "1      1          1     201808      176.1          42     1.023810   \n",
       "2      2          1     201809      278.8          59     1.050847   \n",
       "3      3          1     201810      188.1          44     1.022727   \n",
       "4      4          1     201811      192.6          46     1.021739   \n",
       "\n",
       "   nChipsPerTxn  avgPricePerUnit  \n",
       "0      1.265306         3.337097  \n",
       "1      1.285714         3.261111  \n",
       "2      1.271186         3.717333  \n",
       "3      1.318182         3.243103  \n",
       "4      1.239130         3.378947  "
      ]
     },
     "execution_count": 52,
     "metadata": {},
     "output_type": "execute_result"
    }
   ],
   "source": [
    "qvi_metrics.head(5)"
   ]
  },
  {
   "cell_type": "code",
   "execution_count": 51,
   "metadata": {},
   "outputs": [
    {
     "name": "stdout",
     "output_type": "stream",
     "text": [
      "<class 'pandas.core.frame.DataFrame'>\n",
      "RangeIndex: 3169 entries, 0 to 3168\n",
      "Data columns (total 8 columns):\n",
      " #   Column           Non-Null Count  Dtype  \n",
      "---  ------           --------------  -----  \n",
      " 0   index            3169 non-null   int64  \n",
      " 1   STORE_NBR        3169 non-null   int64  \n",
      " 2   YEARMONTH        3169 non-null   int64  \n",
      " 3   TOT_SALES        3169 non-null   float64\n",
      " 4   nCustomers       3169 non-null   int64  \n",
      " 5   nTxnPerCust      3169 non-null   float64\n",
      " 6   nChipsPerTxn     3169 non-null   float64\n",
      " 7   avgPricePerUnit  3169 non-null   float64\n",
      "dtypes: float64(4), int64(4)\n",
      "memory usage: 198.2 KB\n"
     ]
    }
   ],
   "source": [
    "qvi_metrics.info()"
   ]
  },
  {
   "cell_type": "markdown",
   "metadata": {},
   "source": [
    "#### Next, we define the measure calculations to use during the analysis.\n"
   ]
  },
  {
   "cell_type": "markdown",
   "metadata": {},
   "source": [
    "#### Filter to the pre-trial period and stores with full observation periods\n",
    "storesWithFullObs <- unique(measureOverTime[, .N, STORE_NBR][N == 12, STORE_NBR])\n",
    "preTrialMeasures <- measureOverTime[YEARMONTH < 201902 & STORE_NBR %in%\n",
    "storesWithFullObs, ]"
   ]
  },
  {
   "cell_type": "code",
   "execution_count": 54,
   "metadata": {},
   "outputs": [
    {
     "data": {
      "text/html": [
       "<div>\n",
       "<style scoped>\n",
       "    .dataframe tbody tr th:only-of-type {\n",
       "        vertical-align: middle;\n",
       "    }\n",
       "\n",
       "    .dataframe tbody tr th {\n",
       "        vertical-align: top;\n",
       "    }\n",
       "\n",
       "    .dataframe thead th {\n",
       "        text-align: right;\n",
       "    }\n",
       "</style>\n",
       "<table border=\"1\" class=\"dataframe\">\n",
       "  <thead>\n",
       "    <tr style=\"text-align: right;\">\n",
       "      <th></th>\n",
       "      <th>index</th>\n",
       "      <th>STORE_NBR</th>\n",
       "      <th>YEARMONTH</th>\n",
       "      <th>TOT_SALES</th>\n",
       "      <th>nCustomers</th>\n",
       "      <th>nTxnPerCust</th>\n",
       "      <th>nChipsPerTxn</th>\n",
       "      <th>avgPricePerUnit</th>\n",
       "    </tr>\n",
       "  </thead>\n",
       "  <tbody>\n",
       "    <tr>\n",
       "      <th>0</th>\n",
       "      <td>0</td>\n",
       "      <td>1</td>\n",
       "      <td>201807</td>\n",
       "      <td>206.9</td>\n",
       "      <td>49</td>\n",
       "      <td>1.061224</td>\n",
       "      <td>1.265306</td>\n",
       "      <td>3.337097</td>\n",
       "    </tr>\n",
       "    <tr>\n",
       "      <th>1</th>\n",
       "      <td>1</td>\n",
       "      <td>1</td>\n",
       "      <td>201808</td>\n",
       "      <td>176.1</td>\n",
       "      <td>42</td>\n",
       "      <td>1.023810</td>\n",
       "      <td>1.285714</td>\n",
       "      <td>3.261111</td>\n",
       "    </tr>\n",
       "    <tr>\n",
       "      <th>2</th>\n",
       "      <td>2</td>\n",
       "      <td>1</td>\n",
       "      <td>201809</td>\n",
       "      <td>278.8</td>\n",
       "      <td>59</td>\n",
       "      <td>1.050847</td>\n",
       "      <td>1.271186</td>\n",
       "      <td>3.717333</td>\n",
       "    </tr>\n",
       "    <tr>\n",
       "      <th>3</th>\n",
       "      <td>3</td>\n",
       "      <td>1</td>\n",
       "      <td>201810</td>\n",
       "      <td>188.1</td>\n",
       "      <td>44</td>\n",
       "      <td>1.022727</td>\n",
       "      <td>1.318182</td>\n",
       "      <td>3.243103</td>\n",
       "    </tr>\n",
       "    <tr>\n",
       "      <th>4</th>\n",
       "      <td>4</td>\n",
       "      <td>1</td>\n",
       "      <td>201811</td>\n",
       "      <td>192.6</td>\n",
       "      <td>46</td>\n",
       "      <td>1.021739</td>\n",
       "      <td>1.239130</td>\n",
       "      <td>3.378947</td>\n",
       "    </tr>\n",
       "  </tbody>\n",
       "</table>\n",
       "</div>"
      ],
      "text/plain": [
       "   index  STORE_NBR  YEARMONTH  TOT_SALES  nCustomers  nTxnPerCust  \\\n",
       "0      0          1     201807      206.9          49     1.061224   \n",
       "1      1          1     201808      176.1          42     1.023810   \n",
       "2      2          1     201809      278.8          59     1.050847   \n",
       "3      3          1     201810      188.1          44     1.022727   \n",
       "4      4          1     201811      192.6          46     1.021739   \n",
       "\n",
       "   nChipsPerTxn  avgPricePerUnit  \n",
       "0      1.265306         3.337097  \n",
       "1      1.285714         3.261111  \n",
       "2      1.271186         3.717333  \n",
       "3      1.318182         3.243103  \n",
       "4      1.239130         3.378947  "
      ]
     },
     "execution_count": 54,
     "metadata": {},
     "output_type": "execute_result"
    }
   ],
   "source": [
    "#pre trial observation\n",
    "#filter only stores with full 12 months observation\n",
    "observe_counts = qvi_metrics[\"STORE_NBR\"].value_counts()\n",
    "full_observe_index = observe_counts[observe_counts == 12].index\n",
    "full_observe = qvi_metrics[qvi_metrics[\"STORE_NBR\"].isin(full_observe_index)]\n",
    "pretrial_full_observe = full_observe[full_observe[\"YEARMONTH\"] < 201902]\n",
    "\n",
    "pretrial_full_observe.head(5)"
   ]
  },
  {
   "cell_type": "markdown",
   "metadata": {},
   "source": [
    "Now we need to work out a way of ranking how similar each potential control store\n",
    "is to the trial store. We can calculate how correlated the performance of each\n",
    "store is to the trial store."
   ]
  },
  {
   "cell_type": "markdown",
   "metadata": {},
   "source": [
    "Let's write a function for this so that we don't have to calculate this for each\n",
    "trial store and control store pair."
   ]
  },
  {
   "cell_type": "markdown",
   "metadata": {},
   "source": [
    "#### Over to you! Create a function to calculate correlation for a measure, looping\n",
    "through each control store."
   ]
  },
  {
   "cell_type": "code",
   "execution_count": null,
   "metadata": {},
   "outputs": [],
   "source": []
  },
  {
   "cell_type": "markdown",
   "metadata": {},
   "source": [
    "#### Let's define inputTable as a metric table with potential comparison stores,\n",
    "metricCol as the store metric used to calculate correlation on, and storeComparison\n",
    "as the store number of the trial store.\n",
    "calculateCorrelation <- function(inputTable, metricCol, storeComparison) {\n",
    "calcCorrTable = data.table(Store1 = numeric(), Store2 = numeric(), corr_measure =\n",
    "numeric())\n",
    "storeNumbers <-\n",
    "for (i in storeNumbers) {\n",
    "calculatedMeasure = data.table(\"Store1\" = ,\n",
    "\"Store2\" = ,\n",
    "\"corr_measure\" =\n",
    ")\n",
    "calcCorrTable <- rbind(calcCorrTable, calculatedMeasure)\n",
    "}\n",
    "return(calcCorrTable)"
   ]
  },
  {
   "cell_type": "code",
   "execution_count": null,
   "metadata": {},
   "outputs": [],
   "source": []
  },
  {
   "cell_type": "markdown",
   "metadata": {},
   "source": [
    "Apart from correlation, we can also calculate a standardised metric based on the\n",
    "absolute difference between the trial store's performance and each control store's\n",
    "performance.\n",
    "Let's write a function for this."
   ]
  },
  {
   "cell_type": "markdown",
   "metadata": {},
   "source": [
    "#### Create a function to calculate a standardised magnitude distance for a measure,"
   ]
  },
  {
   "cell_type": "code",
   "execution_count": null,
   "metadata": {},
   "outputs": [],
   "source": []
  },
  {
   "cell_type": "markdown",
   "metadata": {},
   "source": [
    "#### looping through each control store\n",
    "calculateMagnitudeDistance <- function(inputTable, metricCol, storeComparison) {\n",
    "calcDistTable = data.table(Store1 = numeric(), Store2 = numeric(), YEARMONTH =\n",
    "numeric(), measure = numeric())\n",
    "storeNumbers <- unique(inputTable[, STORE_NBR])\n",
    "for (i in storeNumbers) {\n",
    "calculatedMeasure = data.table(\"Store1\" = storeComparison\n",
    ", \"Store2\" = i\n",
    ", \"YEARMONTH\" = inputTable[STORE_NBR ==\n",
    "storeComparison, YEARMONTH]\n",
    ", \"measure\" = abs(inputTable[STORE_NBR ==\n",
    "storeComparison, eval(metricCol)]\n",
    "- inputTable[STORE_NBR == i,\n",
    "eval(metricCol)])\n",
    ")\n",
    "calcDistTable <- rbind(calcDistTable, calculatedMeasure)\n",
    "}"
   ]
  },
  {
   "cell_type": "code",
   "execution_count": null,
   "metadata": {},
   "outputs": [],
   "source": []
  },
  {
   "cell_type": "markdown",
   "metadata": {},
   "source": [
    "#### Standardise the magnitude distance so that the measure ranges from 0 to 1\n",
    "minMaxDist <- calcDistTable[, .(minDist = min(measure), maxDist = max(measure)),\n",
    "by = c(\"Store1\", \"YEARMONTH\")]\n",
    "distTable <- merge(calcDistTable, minMaxDist, by = c(\"Store1\", \"YEARMONTH\"))\n",
    "distTable[, magnitudeMeasure := 1 - (measure - minDist)/(maxDist - minDist)]\n",
    "finalDistTable <- distTable[, .(mag_measure = mean(magnitudeMeasure)), by =\n",
    ".(Store1, Store2)]\n",
    "return(finalDistTable)\n",
    "}"
   ]
  },
  {
   "cell_type": "code",
   "execution_count": null,
   "metadata": {},
   "outputs": [],
   "source": []
  },
  {
   "cell_type": "markdown",
   "metadata": {},
   "source": [
    "Now let's use the functions to find the control stores! We'll select control stores\n",
    "based on how similar monthly total sales in dollar amounts and monthly number of\n",
    "customers are to the trial stores. So we will need to use our functions to get four\n",
    "scores, two for each of total sales and total customers."
   ]
  },
  {
   "cell_type": "markdown",
   "metadata": {},
   "source": [
    "#### Over to you! Use the function you created to calculate correlations against\n",
    "store 77 using total sales and number of customers."
   ]
  },
  {
   "cell_type": "markdown",
   "metadata": {},
   "source": [
    "#### Hint: Refer back to the input names of the functions we created.\n",
    "trial_store <-\n",
    "corr_nSales <- calculateCorrelation(, quote(), )\n",
    "corr_nCustomers <- calculateCorrelation(, quote(), )"
   ]
  },
  {
   "cell_type": "code",
   "execution_count": null,
   "metadata": {},
   "outputs": [],
   "source": []
  },
  {
   "cell_type": "markdown",
   "metadata": {},
   "source": [
    "#### Then, use the functions for calculating magnitude.\n",
    "magnitude_nSales <- calculateMagnitudeDistance(preTrialMeasures, quote(totSales),\n",
    "trial_store)\n",
    "magnitude_nCustomers <- calculateMagnitudeDistance(preTrialMeasures,\n",
    "quote(nCustomers), trial_store)"
   ]
  },
  {
   "cell_type": "code",
   "execution_count": null,
   "metadata": {},
   "outputs": [],
   "source": []
  },
  {
   "cell_type": "markdown",
   "metadata": {},
   "source": [
    "We'll need to combine the all the scores calculated using our function to create a\n",
    "composite score to rank on.\n",
    "Let's take a simple average of the correlation and magnitude scores for each\n",
    "driver. Note that if we consider it more important for the trend of the drivers to\n",
    "be similar, we can increase the weight of the correlation score (a simple average\n",
    "gives a weight of 0.5 to the corr_weight) or if we consider the absolute size of\n",
    "the drivers to be more important, we can lower the weight of the correlation score."
   ]
  },
  {
   "cell_type": "markdown",
   "metadata": {},
   "source": [
    "#### Over to you! Create a combined score composed of correlation and magnitude, by\n",
    "first merging the correlations table with the magnitude table.\n",
    "#### Hint: A simple average on the scores would be 0.5 * corr_measure + 0.5 *\n",
    "mag_measure\n",
    "corr_weight <- 0.5\n",
    "score_nSales <- merge(, , by = )[, scoreNSales := ]\n",
    "score_nCustomers <- merge(, , by = )[, scoreNCust := ]\n",
    "```\n",
    "Now we have a score for each of total number of sales and number of customers.\n",
    "Let's combine the two via a simple average."
   ]
  },
  {
   "cell_type": "code",
   "execution_count": null,
   "metadata": {},
   "outputs": [],
   "source": []
  },
  {
   "cell_type": "markdown",
   "metadata": {},
   "source": [
    "#### Over to you! Combine scores across the drivers by first merging our sales\n",
    "scores and customer scores into a single table\n",
    "score_Control <- merge(, , by = )\n",
    "score_Control[, finalControlScore := scoreNSales * 0.5 + scoreNCust * 0.5]"
   ]
  },
  {
   "cell_type": "markdown",
   "metadata": {},
   "source": [
    "The store with the highest score is then selected as the control store since it is\n",
    "most similar to the trial store."
   ]
  },
  {
   "cell_type": "code",
   "execution_count": null,
   "metadata": {},
   "outputs": [],
   "source": []
  },
  {
   "cell_type": "markdown",
   "metadata": {},
   "source": [
    "#### Select control stores based on the highest matching store (closest to 1 but\n",
    "#### not the store itself, i.e. the second ranked highest store)\n",
    "#### Over to you! Select the most appropriate control store for trial store 77 by\n",
    "finding the store with the highest final score.\n",
    "control_store <-\n",
    "control_store"
   ]
  },
  {
   "cell_type": "code",
   "execution_count": null,
   "metadata": {},
   "outputs": [],
   "source": []
  },
  {
   "cell_type": "markdown",
   "metadata": {},
   "source": [
    "Now that we have found a control store, let's check visually if the drivers are\n",
    "indeed similar in the period before the trial.\n",
    "We'll look at total sales first."
   ]
  },
  {
   "cell_type": "markdown",
   "metadata": {},
   "source": [
    "measureOverTimeSales <- measureOverTime\n",
    "pastSales <- measureOverTimeSales[, Store_type := ifelse(STORE_NBR == trial_store,\n",
    "\"Trial\",\n",
    "ifelse(STORE_NBR == control_store,\n",
    "\"Control\", \"Other stores\"))\n",
    "][, totSales := mean(totSales), by = c(\"YEARMONTH\",\n",
    "\"Store_type\")\n",
    "][, TransactionMonth := as.Date(paste(YEARMONTH %/%\n",
    "100, YEARMONTH %% 100, 1, sep = \"-\"), \"%Y-%m-%d\")\n",
    "][YEARMONTH < 201903 , ]\n",
    "ggplot(pastSales, aes(TransactionMonth, totSales, color = Store_type)) +\n",
    "geom_line() +\n",
    "labs(x = \"Month of operation\", y = \"Total sales\", title = \"Total sales by month\")"
   ]
  },
  {
   "cell_type": "code",
   "execution_count": null,
   "metadata": {},
   "outputs": [],
   "source": []
  },
  {
   "cell_type": "markdown",
   "metadata": {},
   "source": [
    "Next, number of customers.\n",
    "#### Over to you! Conduct visual checks on customer count trends by comparing the\n",
    "trial store to the control store and other stores.\n",
    "#### Hint: Look at the previous plot.\n",
    "measureOverTimeCusts <- measureOverTime\n",
    "pastCustomers <- measureOverTimeCusts[,\n",
    "][,\n",
    "][,\n",
    "][, ]\n",
    "ggplot(, aes(, , color = )) +\n",
    "geom_line() +\n",
    "labs(x = , y = \", title = )"
   ]
  },
  {
   "cell_type": "code",
   "execution_count": null,
   "metadata": {},
   "outputs": [],
   "source": []
  },
  {
   "cell_type": "markdown",
   "metadata": {},
   "source": [
    "## Assessment of trial\n",
    "The trial period goes from the start of February 2019 to April 2019. We now want to\n",
    "see if there has been an uplift in overall chip sales.\n",
    "We'll start with scaling the control store's sales to a level similar to control\n",
    "for any differences between the two stores outside of the trial period."
   ]
  },
  {
   "cell_type": "markdown",
   "metadata": {},
   "source": [
    "#### Scale pre-trial control sales to match pre-trial trial store sales\n",
    "scalingFactorForControlSales <- preTrialMeasures[STORE_NBR == trial_store &\n",
    "YEARMONTH < 201902, sum(totSales)]/preTrialMeasures[STORE_NBR == control_store &\n",
    "YEARMONTH < 201902, sum(totSales)]"
   ]
  },
  {
   "cell_type": "code",
   "execution_count": null,
   "metadata": {},
   "outputs": [],
   "source": []
  },
  {
   "cell_type": "markdown",
   "metadata": {},
   "source": [
    "#### Apply the scaling factor\n",
    "measureOverTimeSales <- measureOverTime\n",
    "scaledControlSales <- measureOverTimeSales[STORE_NBR == control_store, ][ ,\n",
    "controlSales := totSales * scalingFactorForControlSales]"
   ]
  },
  {
   "cell_type": "code",
   "execution_count": null,
   "metadata": {},
   "outputs": [],
   "source": []
  },
  {
   "cell_type": "markdown",
   "metadata": {},
   "source": [
    "Now that we have comparable sales figures for the control store, we can calculate\n",
    "the percentage difference between the scaled control sales and the trial store's\n",
    "sales during the trial period."
   ]
  },
  {
   "cell_type": "markdown",
   "metadata": {},
   "source": [
    "#### Over to you! Calculate the percentage difference between scaled control sales\n",
    "and trial sales\n",
    "percentageDiff <- merge(,\n",
    ",\n",
    "by =\n",
    ")[, percentageDiff := ]"
   ]
  },
  {
   "cell_type": "code",
   "execution_count": null,
   "metadata": {},
   "outputs": [],
   "source": []
  },
  {
   "cell_type": "markdown",
   "metadata": {},
   "source": [
    "Let's see if the difference is significant!"
   ]
  },
  {
   "cell_type": "markdown",
   "metadata": {},
   "source": [
    "#### As our null hypothesis is that the trial period is the same as the pre-trial period, let's take the standard deviation based on the scaled percentage difference in the pre-trial period\n",
    "stdDev <- sd(percentageDiff[YEARMONTH < 201902 , percentageDiff])"
   ]
  },
  {
   "cell_type": "code",
   "execution_count": null,
   "metadata": {},
   "outputs": [],
   "source": []
  },
  {
   "cell_type": "markdown",
   "metadata": {},
   "source": [
    "#### Note that there are 8 months in the pre-trial period\n",
    "#### hence 8 - 1 = 7 degrees of freedom\n",
    "degreesOfFreedom <- 7"
   ]
  },
  {
   "cell_type": "code",
   "execution_count": null,
   "metadata": {},
   "outputs": [],
   "source": []
  },
  {
   "cell_type": "markdown",
   "metadata": {},
   "source": [
    "#### We will test with a null hypothesis of there being 0 difference between trial\n",
    "and control stores.\n",
    "#### Over to you! Calculate the t-values for the trial months. After that, find the\n",
    "95th percentile of the t distribution with the appropriate degrees of freedom 20200128_InsideSherpa_Task2_DraftSolutions - Template.Rmd\n",
    "#### to check whether the hypothesis is statistically significant.\n",
    "#### Hint: The test statistic here is (x - u)/standard deviation\n",
    "percentageDiff[, tValue :=\n",
    "][, TransactionMonth :=\n",
    "][, .()]"
   ]
  },
  {
   "cell_type": "code",
   "execution_count": null,
   "metadata": {},
   "outputs": [],
   "source": []
  },
  {
   "cell_type": "markdown",
   "metadata": {},
   "source": [
    "We can observe that the t-value is much larger than the 95th percentile value of\n",
    "the t-distribution for March and April - i.e. the increase in sales in the trial\n",
    "store in March and April is statistically greater than in the control store.\n",
    "Let's create a more visual version of this by plotting the sales of the control\n",
    "store, the sales of the trial stores and the 95th percentile value of sales of the\n",
    "control store."
   ]
  },
  {
   "cell_type": "markdown",
   "metadata": {},
   "source": [
    "measureOverTimeSales <- measureOverTime\n",
    "#### Trial and control store total sales\n",
    "#### Over to you! Create new variables Store_type, totSales and TransactionMonth in\n",
    "the data table.\n",
    "pastSales <- measureOverTimeSales[, Store_type :=\n",
    "][, totSales :=\n",
    "][, TransactionMonth :=\n",
    "][Store_type %in% c(\"Trial\", \"Control\"), ]\n",
    "#### Control store 95th percentile\n",
    "pastSales_Controls95 <- pastSales[Store_type == \"Control\",\n",
    "][, totSales := totSales * (1 + stdDev * 2)\n",
    "][, Store_type := \"Control 95th % confidence\n",
    "interval\"]\n",
    "#### Control store 5th percentile\n",
    "pastSales_Controls5 <- pastSales[Store_type == \"Control\",\n",
    "][, totSales := totSales * (1 - stdDev * 2)\n",
    "][, Store_type := \"Control 5th % confidence\n",
    "interval\"]\n",
    "trialAssessment <- rbind(pastSales, pastSales_Controls95, pastSales_Controls5)\n",
    "#### Plotting these in one nice graph\n",
    "ggplot(trialAssessment, aes(TransactionMonth, totSales, color = Store_type)) +\n",
    "geom_rect(data = trialAssessment[ YEARMONTH < 201905 & YEARMONTH > 201901 ,],\n",
    "aes(xmin = min(TransactionMonth), xmax = max(TransactionMonth), ymin = 0 , ymax =\n",
    "Inf, color = NULL), show.legend = FALSE) +\n",
    "geom_line() +\n",
    "labs(x = \"Month of operation\", y = \"Total sales\", title = \"Total sales by month\")"
   ]
  },
  {
   "cell_type": "markdown",
   "metadata": {},
   "source": [
    "The results show that the trial in store 77 is significantly different to its\n",
    "control store in the trial period as the trial store performance lies outside the\n",
    "5% to 95% confidence interval of the control store in two of the three trial\n",
    "months.\n",
    "Let's have a look at assessing this for number of customers as well.\n",
    "#### This would be a repeat of the steps before for total sales\n",
    "#### Scale pre-trial control customers to match pre-trial trial store customers\n",
    "#### Over to you! Compute a scaling factor to align control store customer counts\n",
    "to our trial store.\n",
    "#### Then, apply the scaling factor to control store customer counts.\n",
    "#### Finally, calculate the percentage difference between scaled control store\n",
    "customers and trial customers.\n",
    "scalingFactorForControlCust <-\n",
    "measureOverTimeCusts <- measureOverTime\n",
    "scaledControlCustomers <- measureOverTimeCusts[,\n",
    "][, controlCustomers :=\n",
    "][, Store_type :=\n",
    "]\n",
    "percentageDiff <-"
   ]
  },
  {
   "cell_type": "markdown",
   "metadata": {},
   "source": [
    "Let's again see if the difference is significant visually!"
   ]
  },
  {
   "cell_type": "markdown",
   "metadata": {},
   "source": [
    "#### As our null hypothesis is that the trial period is the same as the pre-trial\n",
    "period, let's take the standard deviation based on the scaled percentage difference\n",
    "in the pre-trial period\n",
    "stdDev <- sd(percentageDiff[YEARMONTH < 201902 , percentageDiff])\n",
    "degreesOfFreedom <- 7"
   ]
  },
  {
   "cell_type": "markdown",
   "metadata": {},
   "source": [
    "#### Trial and control store number of customers\n",
    "pastCustomers <- measureOverTimeCusts[, nCusts := mean(nCustomers), by =\n",
    "c(\"YEARMONTH\", \"Store_type\")\n",
    "][Store_type %in% c(\"Trial\", \"Control\"), ]"
   ]
  },
  {
   "cell_type": "markdown",
   "metadata": {},
   "source": [
    "#### Control store 95th percentile\n",
    "pastCustomers_Controls95 <- pastCustomers[Store_type == \"Control\",\n",
    "][, nCusts := nCusts * (1 + stdDev * 2)\n",
    "][, Store_type := \"Control 95th % confidence interval\"]"
   ]
  },
  {
   "cell_type": "markdown",
   "metadata": {},
   "source": [
    "#### Control store 5th percentile\n",
    "pastCustomers_Controls5 <- pastCustomers[Store_type == \"Control\",\n",
    "][, nCusts := nCusts * (1 - stdDev * 2)\n",
    "][, Store_type := \"Control 5th % confidence\n",
    "interval\"]\n",
    "trialAssessment <- rbind(pastCustomers, pastCustomers_Controls95,\n",
    "pastCustomers_Controls5)"
   ]
  },
  {
   "cell_type": "markdown",
   "metadata": {},
   "source": [
    "#### Over to you! Plot everything into one nice graph.\n",
    "#### Hint: geom_rect creates a rectangle in the plot. Use this to highlight the\n",
    "trial period in our graph.\n",
    "ggplot() +\n",
    "geom_rect(data = , aes(xmin = , xmax = , ymin = , ymax = , color = ),\n",
    "show.legend = FALSE) +\n",
    "geom_line() +\n",
    "labs()"
   ]
  },
  {
   "cell_type": "markdown",
   "metadata": {},
   "source": [
    "Let's repeat finding the control store and assessing the impact of the trial for\n",
    "each of the other two trial stores.\n",
    "## Trial store 86"
   ]
  },
  {
   "cell_type": "markdown",
   "metadata": {},
   "source": [
    "#### Over to you! Calculate the metrics below as we did for the first trial store.\n",
    "measureOverTime <- data[, .(totSales = ,\n",
    "nCustomers = ,\n",
    "nTxnPerCust = ,\n",
    "nChipsPerTxn = ,\n",
    "avgPricePerUnit =\n",
    ")\n",
    ", by = ][order(, )]"
   ]
  },
  {
   "cell_type": "markdown",
   "metadata": {},
   "source": [
    "#### Over to you! Use the functions we created earlier to calculate correlations\n",
    "and magnitude for each potential control store\n",
    "trial_store <- 86\n",
    "corr_nSales <-\n",
    "corr_nCustomers <-\n",
    "magnitude_nSales <-\n",
    "magnitude_nCustomers <-"
   ]
  },
  {
   "cell_type": "markdown",
   "metadata": {},
   "source": [
    "#### Now, create a combined score composed of correlation and magnitude\n",
    "corr_weight <- 0.5\n",
    "score_nSales <-\n",
    "score_nCustomers <-"
   ]
  },
  {
   "cell_type": "markdown",
   "metadata": {},
   "source": [
    "#### Finally, combine scores across the drivers using a simple average.\n",
    "score_Control <-\n",
    "score_Control[, finalControlScore := ]"
   ]
  },
  {
   "cell_type": "markdown",
   "metadata": {},
   "source": [
    "#### Select control stores based on the highest matching store\n",
    "#### (closest to 1 but not the store itself, i.e. the second ranked highest store)\n",
    "#### Select control store for trial store 86\n",
    "control_store <- score_Control[Store1 == trial_store,\n",
    "][order(-finalControlScore)][2, Store2]\n",
    "control_store"
   ]
  },
  {
   "cell_type": "markdown",
   "metadata": {},
   "source": [
    "Looks like store 155 will be a control store for trial store 86.\n",
    "Again, let's check visually if the drivers are indeed similar in the period before\n",
    "the trial.\n",
    "We'll look at total sales first."
   ]
  },
  {
   "cell_type": "markdown",
   "metadata": {},
   "source": [
    "#### Over to you! Conduct visual checks on trends based on the drivers\n",
    "measureOverTimeSales <- measureOverTime\n",
    "pastSales <- measureOverTimeSales[, Store_type :=\n",
    "][, totSales := , by = )\n",
    "][, TransactionMonth := )\n",
    "][YEARMONTH < 201903 , ]\n",
    "ggplot() +\n",
    "geom_line() +\n",
    "labs()"
   ]
  },
  {
   "cell_type": "markdown",
   "metadata": {},
   "source": [
    "Great, sales are trending in a similar way.\n",
    "Next, number of customers."
   ]
  },
  {
   "cell_type": "markdown",
   "metadata": {},
   "source": [
    "#### Over to you again! Conduct visual checks on trends based on the drivers\n",
    "measureOverTimeCusts <- measureOverTime\n",
    "pastCustomers <- measureOverTimeCusts[, Store_type :=\n",
    "][, numberCustomers := , by =\n",
    "][, TransactionMonth :=\n",
    "][YEARMONTH < 201903 , ]\n",
    "ggplot() +\n",
    "geom_line() +\n",
    "labs()"
   ]
  },
  {
   "cell_type": "markdown",
   "metadata": {},
   "source": [
    "Good, the trend in number of customers is also similar.\n",
    "Let's now assess the impact of the trial on sales."
   ]
  },
  {
   "cell_type": "markdown",
   "metadata": {},
   "source": [
    "#### Scale pre-trial control sales to match pre-trial trial store sales\n",
    "scalingFactorForControlSales <- preTrialMeasures[STORE_NBR == trial_store &\n",
    "YEARMONTH < 201902, sum(totSales)]/preTrialMeasures[STORE_NBR == control_store &\n",
    "YEARMONTH < 201902, sum(totSales)]"
   ]
  },
  {
   "cell_type": "markdown",
   "metadata": {},
   "source": [
    "#### Apply the scaling factor\n",
    "measureOverTimeSales <- measureOverTime\n",
    "scaledControlSales <- measureOverTimeSales[STORE_NBR == control_store, ][ ,\n",
    "controlSales := totSales * scalingFactorForControlSales]"
   ]
  },
  {
   "cell_type": "markdown",
   "metadata": {},
   "source": [
    "#### Over to you! Calculate the percentage difference between scaled control sales\n",
    "and trial sales\n",
    "#### Hint: When calculating percentage difference, remember to use absolute\n",
    "difference\n",
    "percentageDiff <- merge(,\n",
    ",\n",
    "by = \"YEARMONTH\"\n",
    ")[, percentageDiff := ]"
   ]
  },
  {
   "cell_type": "markdown",
   "metadata": {},
   "source": [
    "#### As our null hypothesis is that the trial period is the same as the pre-trial\n",
    "period, let's take the standard deviation based on the scaled percentage difference\n",
    "in the pre-trial period\n",
    "#### Over to you! Calculate the standard deviation of percentage differences during\n",
    "the pre-trial period\n",
    "stdDev <-\n",
    "degreesOfFreedom <- 7"
   ]
  },
  {
   "cell_type": "markdown",
   "metadata": {},
   "source": [
    "#### Trial and control store total sales\n",
    "#### Over to you! Create a table with sales by store type and month.\n",
    "#### Hint: We only need data for the trial and control store.\n",
    "measureOverTimeSales <- measureOverTime\n",
    "pastSales <- measureOverTimeSales[, Store_type :=\n",
    "][, totSales := , by =\n",
    "][, TransactionMonth :=\n",
    "][, ]"
   ]
  },
  {
   "cell_type": "markdown",
   "metadata": {},
   "source": [
    "#### Over to you! Calculate the 5th and 95th percentile for control store sales.\n",
    "#### Hint: The 5th and 95th percentiles can be approximated by using two standard\n",
    "deviations away from the mean.\n",
    "#### Hint2: Recall that the variable stdDev earlier calculates standard deviation\n",
    "in percentages, and not dollar sales.\n",
    "pastSales_Controls95 <- pastSales[Store_type == ,] [, totSales :=][, Store_type := \"Control 95th % confidence\n",
    "interval\"]\n",
    "pastSales_Controls5 <- pastSales[Store_type == ,\n",
    "][, totSales :=\n",
    "][, Store_type := \"Control 5th % confidence\n",
    "interval\"]"
   ]
  },
  {
   "cell_type": "markdown",
   "metadata": {},
   "source": [
    "#### Then, create a combined table with columns from pastSales,\n",
    "pastSales_Controls95 and pastSales_Controls5\n",
    "trialAssessment <-"
   ]
  },
  {
   "cell_type": "markdown",
   "metadata": {},
   "source": [
    "#### Plotting these in one nice graph\n",
    "ggplot(trialAssessment, aes(TransactionMonth, totSales, color = Store_type)) +\n",
    "geom_rect(data = trialAssessment[ YEARMONTH < 201905 & YEARMONTH > 201901 ,],\n",
    "aes(xmin = min(TransactionMonth), xmax = max(TransactionMonth), ymin = 0 , ymax =\n",
    "Inf, color = NULL), show.legend = FALSE) +\n",
    "geom_line(aes(linetype = Store_type)) +\n",
    "labs(x = \"Month of operation\", y = \"Total sales\", title = \"Total sales by month\")"
   ]
  },
  {
   "cell_type": "markdown",
   "metadata": {},
   "source": [
    "The results show that the trial in store 86 is not significantly different to its\n",
    "control store in the trial period as the trial store performance lies inside the 5%\n",
    "to 95% confidence interval of the control store in two of the three trial months.\n",
    "Let's have a look at assessing this for the number of customers as well."
   ]
  },
  {
   "cell_type": "markdown",
   "metadata": {},
   "source": [
    "#### This would be a repeat of the steps before for total sales\n",
    "#### Scale pre-trial control customers to match pre-trial trial store customers\n",
    "scalingFactorForControlCust <- preTrialMeasures[STORE_NBR == trial_store &\n",
    "YEARMONTH < 201902, sum(nCustomers)]/preTrialMeasures[STORE_NBR == control_store &\n",
    "YEARMONTH < 201902, sum(nCustomers)]"
   ]
  },
  {
   "cell_type": "markdown",
   "metadata": {},
   "source": [
    "#### Apply the scaling factor\n",
    "measureOverTimeCusts <- measureOverTime\n",
    "scaledControlCustomers <- measureOverTimeCusts[STORE_NBR == control_store,\n",
    "][ , controlCustomers := nCustomers\n",
    "* scalingFactorForControlCust\n",
    "][, Store_type := ifelse(STORE_NBR\n",
    "== trial_store, \"Trial\",\n",
    "ifelse(STORE_NBR == control_store,\n",
    "\"Control\", \"Other stores\"))\n",
    "]"
   ]
  },
  {
   "cell_type": "markdown",
   "metadata": {},
   "source": [
    "#### Calculate the percentage difference between scaled control sales and trial\n",
    "sales\n",
    "percentageDiff <- merge(scaledControlCustomers[, c(\"YEARMONTH\",\n",
    "\"controlCustomers\")],\n",
    "measureOverTime[STORE_NBR == trial_store, c(\"nCustomers\",\n",
    "\"YEARMONTH\")],\n",
    "by = \"YEARMONTH\"\n",
    ")[, percentageDiff :=\n",
    "abs(controlCustomers-nCustomers)/controlCustomers]"
   ]
  },
  {
   "cell_type": "markdown",
   "metadata": {},
   "source": [
    "#### As our null hypothesis is that the trial period is the same as the pre-trial\n",
    "period, let's take the standard deviation based on the scaled percentage difference\n",
    "in the pre-trial period\n",
    "stdDev <- sd(percentageDiff[YEARMONTH < 201902 , percentageDiff])\n",
    "degreesOfFreedom <- 7"
   ]
  },
  {
   "cell_type": "markdown",
   "metadata": {},
   "source": [
    "#### Trial and control store number of customers\n",
    "pastCustomers <- measureOverTimeCusts[, nCusts := mean(nCustomers), by =\n",
    "c(\"YEARMONTH\", \"Store_type\")\n",
    "][Store_type %in% c(\"Trial\", \"Control\"), ]"
   ]
  },
  {
   "cell_type": "markdown",
   "metadata": {},
   "source": [
    "#### Control store 95th percentile\n",
    "pastCustomers_Controls95 <- pastCustomers[Store_type == \"Control\",\n",
    "][, nCusts := nCusts * (1 + stdDev * 2)\n",
    "][, Store_type := \"Control 95th % confidence\n",
    "interval\"]"
   ]
  },
  {
   "cell_type": "markdown",
   "metadata": {},
   "source": [
    "#### Control store 5th percentile\n",
    "pastCustomers_Controls5 <- pastCustomers[Store_type == \"Control\",\n",
    "][, nCusts := nCusts * (1 - stdDev * 2)\n",
    "][, Store_type := \"Control 5th % confidence\n",
    "interval\"]\n",
    "trialAssessment <- rbind(pastCustomers, pastCustomers_Controls95,\n",
    "pastCustomers_Controls5)"
   ]
  },
  {
   "cell_type": "markdown",
   "metadata": {},
   "source": [
    "#### Plotting these in one nice graph\n",
    "ggplot(trialAssessment, aes(TransactionMonth, nCusts, color = Store_type)) +\n",
    "geom_rect(data = trialAssessment[ YEARMONTH < 201905 & YEARMONTH > 201901 ,],\n",
    "aes(xmin = min(TransactionMonth), xmax = max(TransactionMonth), ymin = 0 , ymax =\n",
    "Inf, color = NULL), show.legend = FALSE) +\n",
    "geom_line() +\n",
    "labs(x = \"Month of operation\", y = \"Total number of customers\", title = \"Total\n",
    "number of customers by month\")"
   ]
  },
  {
   "cell_type": "markdown",
   "metadata": {},
   "source": [
    "It looks like the number of customers is significantly higher in all of the three\n",
    "months. This seems to suggest that the trial had a significant impact on increasing\n",
    "the number of customers in trial store 86 but as we saw, sales were not\n",
    "significantly higher. We should check with the Category Manager if there were\n",
    "special deals in the trial store that were may have resulted in lower prices,\n",
    "impacting the results.\n",
    "## Trial store 88 "
   ]
  },
  {
   "cell_type": "markdown",
   "metadata": {},
   "source": [
    "#### All over to you now! Your manager has left for a conference call, so you'll be\n",
    "on your own this time.\n",
    "#### Conduct the analysis on trial store 88.\n",
    "measureOverTime <-"
   ]
  },
  {
   "cell_type": "markdown",
   "metadata": {},
   "source": [
    "#### Use the functions from earlier to calculate the correlation of the sales and\n",
    "number of customers of each potential control store to the trial store\n",
    "trial_store <- 88\n",
    "corr_nSales <-\n",
    "corr_nCustomers <-"
   ]
  },
  {
   "cell_type": "markdown",
   "metadata": {},
   "source": [
    "#### Use the functions from earlier to calculate the magnitude distance of the\n",
    "sales and number of customers of each potential control store to the trial store\n",
    "magnitude_nSales <-\n",
    "magnitude_nCustomers <-"
   ]
  },
  {
   "cell_type": "markdown",
   "metadata": {},
   "source": [
    "#### Create a combined score composed of correlation and magnitude by merging the\n",
    "correlations table and the magnitudes table, for each driver.\n",
    "corr_weight <- 0.5\n",
    "score_nSales <-\n",
    "score_nCustomers <-"
   ]
  },
  {
   "cell_type": "markdown",
   "metadata": {},
   "source": [
    "#### Combine scores across the drivers by merging sales scores and customer scores,\n",
    "and compute a final combined score.\n",
    "score_Control <-\n",
    "score_Control[, finalControlScore := ]"
   ]
  },
  {
   "cell_type": "markdown",
   "metadata": {},
   "source": [
    "#### Select control stores based on the highest matching store\n",
    "#### (closest to 1 but not the store itself, i.e. the second ranked highest store)\n",
    "#### Select control store for trial store 88\n",
    "control_store <-\n",
    "control_store"
   ]
  },
  {
   "cell_type": "markdown",
   "metadata": {},
   "source": [
    "We've now found store 237 to be a suitable control store for trial store 88.\n",
    "Again, let's check visually if the drivers are indeed similar in the period before\n",
    "the trial.\n",
    "We'll look at total sales first."
   ]
  },
  {
   "cell_type": "markdown",
   "metadata": {},
   "source": [
    "#### Visual checks on trends based on the drivers\n",
    "#### For the period before the trial, create a graph with total sales of the trial\n",
    "store for each month, compared to the control store and other stores.\n",
    "measureOverTimeSales <- measureOverTime\n",
    "pastSales <-\n",
    "ggplot() +\n",
    "geom_line() +\n",
    "labs()"
   ]
  },
  {
   "cell_type": "markdown",
   "metadata": {},
   "source": [
    "Great, the trial and control stores have similar total sales.\n",
    "Next, number of customers."
   ]
  },
  {
   "cell_type": "markdown",
   "metadata": {},
   "source": [
    "#### Visual checks on trends based on the drivers\n",
    "#### For the period before the trial, create a graph with customer counts of the\n",
    "trial store for each month, compared to the control store and other stores.\n",
    "measureOverTimeCusts <- measureOverTime\n",
    "pastCustomers <-\n",
    "ggplot() +\n",
    "geom_line() +\n",
    "labs()"
   ]
  },
  {
   "cell_type": "markdown",
   "metadata": {},
   "source": [
    "Total number of customers of the control and trial stores are also similar.\n",
    "Let's now assess the impact of the trial on sales."
   ]
  },
  {
   "cell_type": "markdown",
   "metadata": {},
   "source": [
    "#### Scale pre-trial control store sales to match pre-trial trial store sales\n",
    "scalingFactorForControlSales <-"
   ]
  },
  {
   "cell_type": "markdown",
   "metadata": {},
   "source": [
    "#### Apply the scaling factor\n",
    "measureOverTimeSales <- measureOverTime\n",
    "scaledControlSales <-"
   ]
  },
  {
   "cell_type": "markdown",
   "metadata": {},
   "source": [
    "#### Calculate the absolute percentage difference between scaled control sales and\n",
    "trial sales\n",
    "percentageDiff <-"
   ]
  },
  {
   "cell_type": "markdown",
   "metadata": {},
   "source": [
    "#### As our null hypothesis is that the trial period is the same as the pre-trial\n",
    "period, let's take the standard deviation based on the scaled percentage difference\n",
    "in the pre-trial period\n",
    "stdDev <-\n",
    "degreesOfFreedom <- 7"
   ]
  },
  {
   "cell_type": "markdown",
   "metadata": {},
   "source": [
    "#### Trial and control store total sales\n",
    "measureOverTimeSales <- measureOverTime\n",
    "pastSales <-"
   ]
  },
  {
   "cell_type": "markdown",
   "metadata": {},
   "source": [
    "#### Control store 95th percentile\n",
    "pastSales_Controls95 <-"
   ]
  },
  {
   "cell_type": "markdown",
   "metadata": {},
   "source": [
    "#### Control store 5th percentile\n",
    "pastSales_Controls5 <-"
   ]
  },
  {
   "cell_type": "markdown",
   "metadata": {},
   "source": [
    "#### Combine the tables pastSales, pastSales_Controls95, pastSales_Controls5\n",
    "trialAssessment <-"
   ]
  },
  {
   "cell_type": "markdown",
   "metadata": {},
   "source": [
    "#### Plot these in one nice graph\n",
    "ggplot() +\n",
    "geom_rect() +\n",
    "geom_line() +\n",
    "labs()"
   ]
  },
  {
   "cell_type": "markdown",
   "metadata": {},
   "source": [
    "The results show that the trial in store 88 is significantly different to its\n",
    "control store in the trial period as the trial store performance lies outside of\n",
    "the 5% to 95% confidence interval of the control store in two of the three trial\n",
    "months.\n",
    "Let's have a look at assessing this for number of customers as well."
   ]
  },
  {
   "cell_type": "markdown",
   "metadata": {},
   "source": [
    "#### This would be a repeat of the steps before for total sales\n",
    "#### Scale pre-trial control store customers to match pre-trial trial store\n",
    "customers\n",
    "scalingFactorForControlCust <-"
   ]
  },
  {
   "cell_type": "markdown",
   "metadata": {},
   "source": [
    "#### Apply the scaling factor\n",
    "measureOverTimeCusts <- measureOverTime\n",
    "scaledControlCustomers <-"
   ]
  },
  {
   "cell_type": "markdown",
   "metadata": {},
   "source": [
    "#### Calculate the absolute percentage difference between scaled control sales and\n",
    "trial sales\n",
    "percentageDiff <-"
   ]
  },
  {
   "cell_type": "markdown",
   "metadata": {},
   "source": [
    "#### As our null hypothesis is that the trial period is the same as the pre-trial\n",
    "period, let's take the standard deviation based on the scaled percentage difference\n",
    "in the pre-trial period\n",
    "stdDev <-\n",
    "degreesOfFreedom <- 7 # note that there are 8 months in the pre-trial period hence\n",
    "8 - 1 = 7 degrees of freedom"
   ]
  },
  {
   "cell_type": "markdown",
   "metadata": {},
   "source": [
    "#### Trial and control store number of customers\n",
    "pastCustomers <-"
   ]
  },
  {
   "cell_type": "markdown",
   "metadata": {},
   "source": [
    "#### Control store 95th percentile\n",
    "pastCustomers_Controls95 <-"
   ]
  },
  {
   "cell_type": "markdown",
   "metadata": {},
   "source": [
    "#### Control store 5th percentile\n",
    "pastCustomers_Controls5 <-"
   ]
  },
  {
   "cell_type": "markdown",
   "metadata": {},
   "source": [
    "#### Combine the tables pastSales, pastSales_Controls95, pastSales_Controls5\n",
    "trialAssessment <-"
   ]
  },
  {
   "cell_type": "markdown",
   "metadata": {},
   "source": [
    "#### Plotting these in one nice graph\n",
    "ggplot() +\n",
    "geom_rect() +\n",
    "geom_line() +\n",
    "labs()"
   ]
  },
  {
   "cell_type": "markdown",
   "metadata": {},
   "source": [
    "Total number of customers in the trial period for the trial store is significantly\n",
    "higher than the control store for two out of three months, which indicates a\n",
    "positive trial effect.\n",
    "## Conclusion\n",
    "Good work! We've found control stores 233, 155, 237 for trial stores 77, 86 and 88\n",
    "respectively.\n",
    "The results for trial stores 77 and 88 during the trial period show a significant\n",
    "difference in at least two of the three trial months but this is not the case for\n",
    "trial store 86. We can check with the client if the implementation of the trial was\n",
    "different in trial store 86 but overall, the trial shows a significant increase in\n",
    "sales. Now that we have finished our analysis, we can prepare our presentation to\n",
    "the Category Manager."
   ]
  },
  {
   "cell_type": "code",
   "execution_count": null,
   "metadata": {},
   "outputs": [],
   "source": []
  },
  {
   "cell_type": "code",
   "execution_count": null,
   "metadata": {},
   "outputs": [],
   "source": []
  },
  {
   "cell_type": "code",
   "execution_count": null,
   "metadata": {},
   "outputs": [],
   "source": []
  },
  {
   "cell_type": "code",
   "execution_count": null,
   "metadata": {},
   "outputs": [],
   "source": []
  }
 ],
 "metadata": {
  "kernelspec": {
   "display_name": "Python 3",
   "language": "python",
   "name": "python3"
  },
  "language_info": {
   "codemirror_mode": {
    "name": "ipython",
    "version": 3
   },
   "file_extension": ".py",
   "mimetype": "text/x-python",
   "name": "python",
   "nbconvert_exporter": "python",
   "pygments_lexer": "ipython3",
   "version": "3.8.5"
  }
 },
 "nbformat": 4,
 "nbformat_minor": 4
}
